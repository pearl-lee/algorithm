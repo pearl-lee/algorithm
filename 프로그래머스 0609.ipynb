{
 "cells": [
  {
   "cell_type": "markdown",
   "metadata": {},
   "source": [
    "#### 1 문제 설명\n",
    "\n",
    "프로그래머스 모바일은 개인정보 보호를 위해 고지서를 보낼 때 고객들의 전화번호의 일부를 가립니다.\n",
    "전화번호가 문자열 phone_number로 주어졌을 때, 전화번호의 뒷 4자리를 제외한 나머지 숫자를 전부 *으로 가린 문자열을 리턴하는 함수, solution을 완성해주세요.\n",
    "\n",
    "[제한 조건]\n",
    "s는 길이 4 이상, 20이하인 문자열입니다.\n",
    "\n",
    "[입출력 예]\n",
    "\n",
    "|phone_number|return|\n",
    "|----|----|\n",
    "|01033334444|*******4444|\n",
    "|027778888|*****8888|"
   ]
  },
  {
   "cell_type": "code",
   "execution_count": 50,
   "metadata": {},
   "outputs": [],
   "source": [
    "def solution(phone_number):\n",
    "    import numpy as np\n",
    "    \n",
    "    if 4 <= len(phone_number) <= 20:\n",
    "        pns = ''\n",
    "        for n in range(len(phone_number[:-4])):\n",
    "            pns += '*'\n",
    "        answer = pns + phone_number[-4:]\n",
    "    else:\n",
    "        print('phone number must be 4 to 20 numbers')\n",
    "        answer = ''\n",
    "    \n",
    "    return answer"
   ]
  },
  {
   "cell_type": "code",
   "execution_count": 51,
   "metadata": {},
   "outputs": [
    {
     "data": {
      "text/plain": [
       "'*******4444'"
      ]
     },
     "execution_count": 51,
     "metadata": {},
     "output_type": "execute_result"
    }
   ],
   "source": [
    "solution('01033334444')"
   ]
  },
  {
   "cell_type": "code",
   "execution_count": 52,
   "metadata": {},
   "outputs": [
    {
     "data": {
      "text/plain": [
       "'*****8888'"
      ]
     },
     "execution_count": 52,
     "metadata": {},
     "output_type": "execute_result"
    }
   ],
   "source": [
    "solution('027778888')"
   ]
  },
  {
   "cell_type": "markdown",
   "metadata": {},
   "source": [
    "#### 채점 결과\n",
    "\n",
    "정확성: 50.0\n",
    "\n",
    "효율성: 0.0\n",
    "\n",
    "합계: 50.0 / 50"
   ]
  },
  {
   "cell_type": "markdown",
   "metadata": {},
   "source": [
    "#### 2 문제 설명\n",
    "함수 solution은 정수 x와 자연수 n을 입력 받아, x부터 시작해 x씩 증가하는 숫자를 n개 지니는 리스트를 리턴해야 합니다. 다음 제한 조건을 보고, 조건을 만족하는 함수, solution을 완성해주세요.\n",
    "\n",
    "\n",
    "[제한 조건]\n",
    "\n",
    "x는 -10000000 이상, 10000000 이하인 정수입니다.\n",
    "n은 1000 이하인 자연수입니다.\n",
    "\n",
    "\n",
    "[입출력 예]\n",
    "\n",
    "|x\t|n\t|answer|\n",
    "|--|--|--|\n",
    "|2\t|5\t|[2,4,6,8,10]|\n",
    "|4\t|3\t|[4,8,12]|\n",
    "|-4\t|2\t|[-4, -8]|"
   ]
  },
  {
   "cell_type": "code",
   "execution_count": 44,
   "metadata": {},
   "outputs": [],
   "source": [
    "def solution(x, n):\n",
    "    answer = []\n",
    "    a = x\n",
    "    while len(answer) < n:\n",
    "        answer.append(a)\n",
    "        a += x\n",
    "    return answer"
   ]
  },
  {
   "cell_type": "code",
   "execution_count": 45,
   "metadata": {},
   "outputs": [
    {
     "data": {
      "text/plain": [
       "[2, 4, 6, 8, 10]"
      ]
     },
     "execution_count": 45,
     "metadata": {},
     "output_type": "execute_result"
    }
   ],
   "source": [
    "solution(2, 5)"
   ]
  },
  {
   "cell_type": "code",
   "execution_count": 47,
   "metadata": {},
   "outputs": [
    {
     "data": {
      "text/plain": [
       "[4, 8, 12]"
      ]
     },
     "execution_count": 47,
     "metadata": {},
     "output_type": "execute_result"
    }
   ],
   "source": [
    "solution(4, 3)"
   ]
  },
  {
   "cell_type": "code",
   "execution_count": 48,
   "metadata": {},
   "outputs": [
    {
     "data": {
      "text/plain": [
       "[-4, -8]"
      ]
     },
     "execution_count": 48,
     "metadata": {},
     "output_type": "execute_result"
    }
   ],
   "source": [
    "solution(-4, 2)"
   ]
  },
  {
   "cell_type": "markdown",
   "metadata": {},
   "source": [
    "#### 채점 결과\n",
    "정확성: 50.0\n",
    "\n",
    "효율성: 0.0\n",
    "\n",
    "합계: 50.0 / 50"
   ]
  },
  {
   "cell_type": "markdown",
   "metadata": {},
   "source": [
    "### 3 문제 설명\n",
    "땅따먹기 게임을 하려고 합니다. 땅따먹기 게임의 땅(land)은 총 N행 4열로 이루어져 있고, 모든 칸에는 점수가 쓰여 있습니다. 1행부터 땅을 밟으며 한 행씩 내려올 때, 각 행의 4칸 중 한 칸만 밟으면서 내려와야 합니다. 단, 땅따먹기 게임에는 한 행씩 내려올 때, 같은 열을 연속해서 밟을 수 없는 특수 규칙이 있습니다.\n",
    "\n",
    "예를 들면,\n",
    "\n",
    "| 1 | 2 | 3 | 5 |\n",
    "\n",
    "| 5 | 6 | 7 | 8 |\n",
    "\n",
    "| 4 | 3 | 2 | 1 |\n",
    "\n",
    "로 땅이 주어졌다면, 1행에서 네번째 칸 (5)를 밟았으면, 2행의 네번째 칸 (8)은 밟을 수 없습니다.\n",
    "\n",
    "마지막 행까지 모두 내려왔을 때, 얻을 수 있는 점수의 최대값을 return하는 solution 함수를 완성해 주세요. 위 예의 경우, 1행의 네번째 칸 (5), 2행의 세번째 칸 (7), 3행의 첫번째 칸 (4) 땅을 밟아 16점이 최고점이 되므로 16을 return 하면 됩니다.\n",
    "\n",
    "제한사항\n",
    "행의 개수 N : 100,000 이하의 자연수\n",
    "열의 개수는 4개이고, 땅(land)은 2차원 배열로 주어집니다.\n",
    "점수 : 100 이하의 자연수\n",
    "입출력 예\n",
    "\n",
    "|land|\tanswer|\n",
    "|---|---|\n",
    "|[[1,2,3,5],[5,6,7,8],[4,3,2,1]]\t|16|\n",
    "\n",
    "입출력 예 설명\n",
    "입출력 예 #1\n",
    "문제의 예시와 같습니다."
   ]
  },
  {
   "cell_type": "code",
   "execution_count": 99,
   "metadata": {},
   "outputs": [
    {
     "data": {
      "text/plain": [
       "array([[91, 59, 97, 32],\n",
       "       [65, 59, 96, 87],\n",
       "       [99, 24, 84, 14]])"
      ]
     },
     "execution_count": 99,
     "metadata": {},
     "output_type": "execute_result"
    }
   ],
   "source": [
    "import random\n",
    "import numpy as np\n",
    "n = 3\n",
    "ls = random.choices(range(1, 100), k=4*n)\n",
    "land = np.array(ls).reshape(n, 4)\n",
    "land"
   ]
  },
  {
   "cell_type": "code",
   "execution_count": 116,
   "metadata": {},
   "outputs": [
    {
     "data": {
      "text/plain": [
       "(292, [97, 96, 99])"
      ]
     },
     "execution_count": 116,
     "metadata": {},
     "output_type": "execute_result"
    }
   ],
   "source": [
    "answer = 0\n",
    "value = []\n",
    "for i in range(n):\n",
    "    answer += land[i, :].max()\n",
    "    value.append(land[i, :].max())\n",
    "answer, value"
   ]
  },
  {
   "cell_type": "code",
   "execution_count": 127,
   "metadata": {
    "scrolled": true
   },
   "outputs": [
    {
     "name": "stdout",
     "output_type": "stream",
     "text": [
      "0 0\n",
      "1 1\n",
      "2 2\n",
      "3 3\n",
      "4 0\n",
      "5 1\n",
      "6 2\n",
      "7 3\n",
      "8 0\n",
      "9 1\n",
      "10 2\n",
      "11 3\n"
     ]
    }
   ],
   "source": [
    "for i in range(n*4):\n",
    "    print(i, i % 4)"
   ]
  },
  {
   "cell_type": "code",
   "execution_count": 261,
   "metadata": {
    "scrolled": true
   },
   "outputs": [
    {
     "data": {
      "text/plain": [
       "array([[1, 2, 3, 5],\n",
       "       [5, 6, 7, 8],\n",
       "       [4, 3, 2, 1]])"
      ]
     },
     "execution_count": 261,
     "metadata": {},
     "output_type": "execute_result"
    }
   ],
   "source": [
    "land"
   ]
  },
  {
   "cell_type": "code",
   "execution_count": 289,
   "metadata": {},
   "outputs": [
    {
     "data": {
      "text/plain": [
       "3"
      ]
     },
     "execution_count": 289,
     "metadata": {},
     "output_type": "execute_result"
    }
   ],
   "source": [
    "lll = land[0, :].flatten()\n",
    "lll.sort()\n",
    "lll[-2]"
   ]
  },
  {
   "cell_type": "code",
   "execution_count": 291,
   "metadata": {},
   "outputs": [
    {
     "name": "stdout",
     "output_type": "stream",
     "text": [
      "5\n",
      "12\n",
      "16\n"
     ]
    }
   ],
   "source": [
    "answer = 0\n",
    "for i in range(land.shape[0]):\n",
    "    answer += land[i, :].max()\n",
    "    l = np.where(land == land[i, :].max())[1][0]\n",
    "    if l == np.where(land == land[i-1, :].max())[1][0]:\n",
    "        answer -= land[i, :].max()\n",
    "        ll = land[i, :].flatten()\n",
    "        ll.sort()\n",
    "        answer += ll[-2]\n",
    "    print(answer)"
   ]
  },
  {
   "cell_type": "code",
   "execution_count": 299,
   "metadata": {},
   "outputs": [
    {
     "data": {
      "text/plain": [
       "array([[1, 2, 3, 5],\n",
       "       [5, 6, 7, 8],\n",
       "       [4, 3, 2, 1]])"
      ]
     },
     "execution_count": 299,
     "metadata": {},
     "output_type": "execute_result"
    }
   ],
   "source": [
    "land = np.array([[1,2,3,5],[5,6,7,8],[4,3,2,1]])\n",
    "land"
   ]
  },
  {
   "cell_type": "code",
   "execution_count": 300,
   "metadata": {},
   "outputs": [],
   "source": [
    "def solution(land):\n",
    "    answer = 0\n",
    "    for i in range(land.shape[0]):\n",
    "        answer += land[i, :].max()\n",
    "        l = np.where(land == land[i, :].max())[1][0]\n",
    "        if l == np.where(land == land[i-1, :].max())[1][0]:\n",
    "            answer -= land[i, :].max()\n",
    "            ll = land[i, :].flatten()\n",
    "            ll.sort()\n",
    "            answer += ll[-2]\n",
    "            \n",
    "    print('Hello Python')\n",
    "    return answer"
   ]
  },
  {
   "cell_type": "code",
   "execution_count": 301,
   "metadata": {},
   "outputs": [
    {
     "name": "stdout",
     "output_type": "stream",
     "text": [
      "Hello Python\n"
     ]
    },
    {
     "data": {
      "text/plain": [
       "16"
      ]
     },
     "execution_count": 301,
     "metadata": {},
     "output_type": "execute_result"
    }
   ],
   "source": [
    "solution(land)"
   ]
  },
  {
   "cell_type": "code",
   "execution_count": null,
   "metadata": {},
   "outputs": [],
   "source": []
  }
 ],
 "metadata": {
  "kernelspec": {
   "display_name": "Python 3",
   "language": "python",
   "name": "python3"
  },
  "language_info": {
   "codemirror_mode": {
    "name": "ipython",
    "version": 3
   },
   "file_extension": ".py",
   "mimetype": "text/x-python",
   "name": "python",
   "nbconvert_exporter": "python",
   "pygments_lexer": "ipython3",
   "version": "3.7.6"
  }
 },
 "nbformat": 4,
 "nbformat_minor": 4
}
